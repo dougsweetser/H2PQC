{
 "cells": [
  {
   "cell_type": "markdown",
   "metadata": {},
   "source": [
    "$\\newcommand{\\ket}[1]{\\left|{#1}\\right\\rangle}$\n",
    "$\\newcommand{\\bra}[1]{\\left\\langle{#1}\\right|}$\n",
    "# 0.1 H2PQC\n",
    "\n",
    "The following describes the basic functionality of Qiskit and how to:\n",
    "\n",
    "(1) Initialize qubits and classical registers\n",
    "\n",
    "(2) Perform operations\n",
    "\n",
    "(3) Make measurements\n",
    "\n",
    "In addition we cover different simulation backends and plotting.  Lots of this is also in the IBM Qiskit Terra tutorial."
   ]
  },
  {
   "cell_type": "markdown",
   "metadata": {},
   "source": [
    "### Code Import"
   ]
  },
  {
   "cell_type": "code",
   "execution_count": null,
   "metadata": {},
   "outputs": [],
   "source": [
    "from qiskit import QuantumRegister, ClassicalRegister\n",
    "from qiskit import QuantumCircuit, Aer, execute, BasicAer\n",
    "from qiskit.tools.visualization import plot_histogram\n",
    "\n",
    "import matplotlib.pyplot as plt\n",
    "import numpy as np\n",
    "from numpy import pi"
   ]
  },
  {
   "cell_type": "markdown",
   "metadata": {},
   "source": [
    "### Initialize quanutm and classical registers"
   ]
  },
  {
   "cell_type": "code",
   "execution_count": null,
   "metadata": {},
   "outputs": [],
   "source": [
    "# quantum circuit with 2 qubits initliased in the |0> state\n",
    "q = QuantumRegister(2)\n",
    "\n",
    "# classical register for readout with 2 bits of representation\n",
    "c = ClassicalRegister(2)"
   ]
  },
  {
   "cell_type": "markdown",
   "metadata": {},
   "source": [
    "### Build the quantum circuit and apply some operations\n",
    "\n",
    "A list of all the availible single and multi-qubit operations can be found here: https://qiskit.org/documentation/summary_of_quantum_operations.html.  For the moment lets just use the ones we've learnt about so far, let's use Y, Z and this mystery H."
   ]
  },
  {
   "cell_type": "code",
   "execution_count": null,
   "metadata": {},
   "outputs": [],
   "source": [
    "# build the circuit\n",
    "qc = QuantumCircuit(q, c)\n",
    "\n",
    "# apply Y to qubit 0\n",
    "qc.y(q[0])\n",
    "\n",
    "# apply Z to qubit 1\n",
    "qc.z(q[1])\n",
    "\n",
    "# apply Hadamard to qubit 0\n",
    "qc.h(q[0])\n",
    "\n",
    "# apply Hadamard to qubit 1\n",
    "qc.h(q[1])"
   ]
  },
  {
   "cell_type": "markdown",
   "metadata": {},
   "source": [
    "### Visualisation\n",
    "\n",
    "To check we applied the correct operations we can draw it!"
   ]
  },
  {
   "cell_type": "code",
   "execution_count": null,
   "metadata": {},
   "outputs": [],
   "source": [
    "qc.draw()"
   ]
  },
  {
   "cell_type": "markdown",
   "metadata": {},
   "source": [
    "### Backend\n",
    "\n",
    "Once we have the circuit we need to choose our backend.  This will determine how we run the circuit.  You can either do this numerically (so you output the state vector or unitary exactly), simulate a quantum computer (so you output fake, noisey, data) or run it on a real quanutm computer.  For our purpose we will moslty be generating fake data, but lets check out the other two:"
   ]
  },
  {
   "cell_type": "code",
   "execution_count": null,
   "metadata": {},
   "outputs": [],
   "source": [
    "BasicAer.backends()"
   ]
  },
  {
   "cell_type": "markdown",
   "metadata": {},
   "source": [
    "#### Numerical Simulation (statevector)"
   ]
  },
  {
   "cell_type": "code",
   "execution_count": null,
   "metadata": {},
   "outputs": [],
   "source": [
    "# load the backend\n",
    "backend = BasicAer.get_backend('statevector_simulator')\n",
    "\n",
    "# create a program to run\n",
    "job = execute(qc, backend)\n",
    "\n",
    "# get the results\n",
    "result = job.result()\n",
    "\n",
    "# get the statevector and print it\n",
    "outputstate = result.get_statevector()\n",
    "print(outputstate)"
   ]
  },
  {
   "cell_type": "markdown",
   "metadata": {},
   "source": [
    "Lets plot the probabilities $|a_{ij}|^2$ of each element in the basis:"
   ]
  },
  {
   "cell_type": "code",
   "execution_count": null,
   "metadata": {},
   "outputs": [],
   "source": [
    "plt.bar(range(len(outputstate)), np.abs(outputstate)**2)\n",
    "plt.xticks(range(len(outputstate)), ['|00>','|01>', '|10>', '|11>' ])\n",
    "plt.ylabel('probabitiy')\n",
    "plt.xlabel('state')\n",
    "plt.show()"
   ]
  },
  {
   "cell_type": "markdown",
   "metadata": {},
   "source": [
    "#### Numerical Simulation (unitary)"
   ]
  },
  {
   "cell_type": "code",
   "execution_count": null,
   "metadata": {},
   "outputs": [],
   "source": [
    "# load the backend\n",
    "backend = BasicAer.get_backend('unitary_simulator')\n",
    "\n",
    "# create a program to run\n",
    "job = execute(qc, backend)\n",
    "\n",
    "# get the results\n",
    "result = job.result()\n",
    "\n",
    "# Print the unitary as an array\n",
    "print(result.get_unitary())"
   ]
  },
  {
   "cell_type": "markdown",
   "metadata": {},
   "source": [
    "#### Draw Samples\n",
    "\n",
    "We're mostly going to be interested in the output from a quanutm computer where we don't find out what the full state is, rather, we get a single output with probaility goverend by the respective probability amplitude.  Forutnately Qiskit let's us do that!"
   ]
  },
  {
   "cell_type": "code",
   "execution_count": null,
   "metadata": {},
   "outputs": [],
   "source": [
    "# we first need to measure the qubits\n",
    "qc.barrier(q)\n",
    "qc.measure(q, c)\n",
    "\n",
    "# lets check this\n",
    "qc.draw()"
   ]
  },
  {
   "cell_type": "code",
   "execution_count": null,
   "metadata": {},
   "outputs": [],
   "source": [
    "# load the QASM backend\n",
    "backend = BasicAer.get_backend('qasm_simulator')\n",
    "\n",
    "# select the number of shots (repeats) of the experiment, and run the job\n",
    "job = execute(qc, backend, shots=1000)\n",
    "result = job.result()\n",
    "\n",
    "# get the counts (how many events in each bin)\n",
    "counts = result.get_counts(qc)\n",
    "\n",
    "print(counts)\n",
    "# plot\n",
    "plot_histogram(counts)"
   ]
  },
  {
   "cell_type": "markdown",
   "metadata": {},
   "source": [
    "Yay! Your first quanutm data!"
   ]
  },
  {
   "cell_type": "markdown",
   "metadata": {},
   "source": [
    "### Different input states\n",
    "\n",
    "You can also change the input state, **note** that for two qubits the input array is in binary ordering:\n",
    "\n",
    "$\\{\\ket{00}, \\ket{01}, \\ket{10}, \\ket{11}\\}$\n",
    "\n",
    "with the indexing $\\ket{q_{1} q_0}$ (qubit 1, qubit 0)\n"
   ]
  },
  {
   "cell_type": "code",
   "execution_count": null,
   "metadata": {},
   "outputs": [],
   "source": [
    "# Build Circuit\n",
    "q = QuantumRegister(2)\n",
    "c = ClassicalRegister(2)\n",
    "qc = QuantumCircuit(q, c)\n",
    "\n",
    "# apply X to qubit 0\n",
    "qc.x(q[0])\n",
    "\n",
    "# apply Y to qubit 1\n",
    "qc.y(q[1])\n",
    "\n",
    "# Measure the qubit\n",
    "qc.measure(q, c)\n",
    "\n",
    "# Set the initial state, two qubit basis is [00, 01, 10, 11]\n",
    "opts = {\"initial_statevector\": np.array([0,1,0,0])}\n",
    "\n",
    "# Load backend QasmSimulator and run the job\n",
    "backend = BasicAer.get_backend('qasm_simulator')\n",
    "\n",
    "# select the number of shots (repeats) of the experiment, and run the job\n",
    "job = execute(qc, backend, shots=1024, backend_options=opts)\n",
    "result = job.result()\n",
    "\n",
    "# get the counts (how many events in each bin)\n",
    "counts = result.get_counts(qc)\n",
    "print(counts)\n",
    "\n",
    "# plot\n",
    "plot_histogram(counts)"
   ]
  },
  {
   "cell_type": "code",
   "execution_count": null,
   "metadata": {},
   "outputs": [],
   "source": []
  }
 ],
 "metadata": {
  "language_info": {
   "name": "python",
   "pygments_lexer": "ipython3"
  }
 },
 "nbformat": 4,
 "nbformat_minor": 2
}
