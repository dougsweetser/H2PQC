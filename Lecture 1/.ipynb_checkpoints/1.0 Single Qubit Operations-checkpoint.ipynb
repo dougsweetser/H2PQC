{
 "cells": [
  {
   "cell_type": "markdown",
   "metadata": {},
   "source": [
    "# 1.0 Single Qubit Operations\n",
    "\n",
    "In this notebook we'll explore some properties of single qubit operations\n",
    "$\\newcommand{\\ket}[1]{\\left|{#1}\\right\\rangle}$\n",
    "$\\newcommand{\\bra}[1]{\\left\\langle{#1}\\right|}$"
   ]
  },
  {
   "cell_type": "code",
   "execution_count": null,
   "metadata": {},
   "outputs": [],
   "source": [
    "from qiskit import QuantumRegister, ClassicalRegister\n",
    "from qiskit import QuantumCircuit, BasicAer, execute\n",
    "from qiskit.tools.visualization import plot_histogram\n",
    "\n",
    "import matplotlib.pyplot as plt\n",
    "import numpy as np"
   ]
  },
  {
   "cell_type": "markdown",
   "metadata": {},
   "source": [
    "### 1.1 Pauli X\n",
    "- Initialise a single quantum bit and classical register\n",
    "- confirm the properties of the X operation `x(q[0])`, what happens when you put $\\ket{0}$ through, and when you put $\\ket{1}$ through?"
   ]
  },
  {
   "cell_type": "code",
   "execution_count": null,
   "metadata": {},
   "outputs": [],
   "source": [
    "# Initliaise quantum and classical register\n",
    "\n",
    "\n",
    "# apply the X operation\n",
    "\n",
    "\n",
    "\n",
    "# apply the measurement\n",
    "\n",
    "\n",
    "\n",
    "# Set the initial state (either |0> or |1>)\n",
    "\n",
    "\n",
    "# Load backend QasmSimulator and run the job\n",
    "\n",
    "\n",
    "# get the counts (how many events in each bin) and print them\n",
    "\n",
    "\n",
    "# plot histogram\n"
   ]
  },
  {
   "cell_type": "markdown",
   "metadata": {},
   "source": [
    "### 1.2 Hadamard\n",
    "Lets look at the properties of the Hadamard gate `h(q[0])`.  What happens when you put $\\ket{0}$ in, then $\\ket{1}$ in?"
   ]
  },
  {
   "cell_type": "code",
   "execution_count": null,
   "metadata": {},
   "outputs": [],
   "source": [
    "# Initliaise quantum and classical register\n",
    "\n",
    "\n",
    "# Apply the H operation\n",
    "\n",
    "\n",
    "# Apply the measurement\n",
    "\n",
    "\n",
    "# Set the initial state (either |0> or |1>)\n",
    "\n",
    "\n",
    "# Load backend QasmSimulator and run the job\n",
    "\n",
    "\n",
    "# get the counts (how many events in each bin)\n",
    "\n",
    "\n",
    "# plot\n"
   ]
  },
  {
   "cell_type": "markdown",
   "metadata": {},
   "source": [
    "Eeek! The quanutm statistics are the same.  Lets try putting in different states to see whats going on:\n",
    "$$\\ket{+}=(\\ket{0}+\\ket{1})/\\sqrt{2}$$\n",
    "$$\\ket{-}=(\\ket{0}-\\ket{1})/\\sqrt{2}$$"
   ]
  },
  {
   "cell_type": "code",
   "execution_count": null,
   "metadata": {},
   "outputs": [],
   "source": [
    "# Set the initial state (either |+> or |->)\n",
    "\n",
    "\n",
    "# Load backend QasmSimulator and run the job\n",
    "\n",
    "\n",
    "# get the counts (how many events in each bin)\n",
    "\n",
    "\n",
    "# plot\n"
   ]
  },
  {
   "cell_type": "markdown",
   "metadata": {},
   "source": [
    "So you can figure out what the gate is doing by inputting different states and making measurments.  Well done, youve just done quantum tomography!"
   ]
  },
  {
   "cell_type": "code",
   "execution_count": null,
   "metadata": {},
   "outputs": [],
   "source": []
  }
 ],
 "metadata": {
  "language_info": {
   "name": "python",
   "pygments_lexer": "ipython3"
  }
 },
 "nbformat": 4,
 "nbformat_minor": 2
}
