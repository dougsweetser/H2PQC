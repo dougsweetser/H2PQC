{
 "cells": [
  {
   "cell_type": "markdown",
   "metadata": {},
   "source": [
    "# Quaternion Series QM Proof of CHSH inequalites"
   ]
  },
  {
   "cell_type": "markdown",
   "metadata": {},
   "source": [
    "Doug Sweetser <sweetser@alum.mit.edu>"
   ]
  },
  {
   "cell_type": "markdown",
   "metadata": {},
   "source": [
    "Apparently there is work by Joy Christian claiming that quaternions can be used to do Bell's inequality incorrectly. That is unfortunate. Let's just _do the right thing_.\n",
    "\n",
    "Quaternions are a normed division algebra. A quaternion series is a vector space of quaternions with two additional pieces of information, integers for rows and columns. Quaternion series are neither normed nor a division algebra. Two quaternion series can be orthogonal, showing the norm is not preserved. There is exactly one additive identity, zero for each of the n states. There are $2^n$ multiplicative inverses for a quaternion series with each state being either zero or one. Quaternion series can be thought of as a semi-group with inverses.\n",
    "\n",
    "The next section is cut and pasted from the notebook e91_quantum_key_distribution_protocol.ipynb and has the relations that my tools must necessarily recreate."
   ]
  },
  {
   "cell_type": "markdown",
   "metadata": {},
   "source": [
    "## *CHSH inequality*"
   ]
  },
  {
   "cell_type": "markdown",
   "metadata": {},
   "source": [
    "The entangled wave function used:\n",
    "\n",
    "$$\\lvert\\psi_s\\rangle =\n",
    "  \\frac{1}{\\sqrt{2}}(\\lvert0\\rangle_A\\otimes\\lvert1\\rangle_B - \\lvert1\\rangle_A\\otimes\\lvert0\\rangle_B) =\n",
    "  \\frac{1}{\\sqrt{2}}(\\lvert01\\rangle - \\lvert10\\rangle),$$\n",
    "\n",
    "In the framework of classical physics, it is impossible to create a correlation inherent in the singlet state $\\lvert\\psi_s\\rangle$.\n",
    "Indeed, let us measure the observables $X$, $Z$ for qubit *A* and observables $W = \\frac{1}{\\sqrt{2}} (X + Z)$, $V = \\frac{1}{\\sqrt{2}} (-X + Z)$ for qubit *B*.\n",
    "Performing joint measurements of these observables, the following expectation values can be obtained:\n",
    "\\begin{eqnarray*}\n",
    " \\langle X \\otimes W \\rangle_{\\psi_s} &= -\\frac{1}{\\sqrt{2}}, \\quad \n",
    " \\langle X \\otimes V \\rangle_{\\psi_s} &= \\frac{1}{\\sqrt{2}}, \\qquad\\qquad (2) \\\\\n",
    " \\langle Z \\otimes W \\rangle_{\\psi_s} &= -\\frac{1}{\\sqrt{2}}, \\quad\n",
    " \\langle Z \\otimes V \\rangle_{\\psi_s} &= -\\frac{1}{\\sqrt{2}}.\n",
    "\\end{eqnarray*}\n",
    "\n",
    "$\\textbf{Exercise:}$ Given the singlet state described in the previous section, show that \n",
    "\\begin{eqnarray*}\n",
    "\\langle X \\otimes W \\rangle_{\\psi_s} &= -\\frac{1}{\\sqrt{2}}\n",
    "\\end{eqnarray*}\n",
    "\n",
    "Now we can costruct the *Clauser-Horne-Shimony-Holt (CHSH) correlation value*:\n",
    "\n",
    "$$C =\n",
    "\\langle X\\otimes W \\rangle - \\langle X \\otimes V \\rangle + \\langle Z \\otimes W \\rangle + \\langle Z \\otimes V \\rangle =\n",
    "-2 \\sqrt{2}. \\qquad\\qquad (3)$$\n",
    "\n",
    "The [local hidden variable theory](https://en.wikipedia.org/wiki/Local_hidden_variable_theory) which was developed in an attempt to explain the quantum correlations with a classical theory gives that $\\lvert C \\rvert \\leqslant 2$.\n",
    "But [Bell's theorem](https://en.wikipedia.org/wiki/Bell's_theorem) states that \"no physical theory of local hidden variables can ever reproduce all of the predictions of quantum mechanics.\"\n",
    "Thus, the violation of the [CHSH inequality](https://en.wikipedia.org/wiki/Bell's_theorem#Bell_inequalities_are_violated_by_quantum_mechanical_predictions) (i.e. $C = -2 \\sqrt{2}$ for the singlet state), which is a generalized form of Bell's inequality, can serve as an *indicator of quantum entanglement*.\n",
    "This fact finds its application in the E91 protocol."
   ]
  },
  {
   "cell_type": "markdown",
   "metadata": {},
   "source": [
    "## A complex-valued analysis of the CHSH correlation value"
   ]
  },
  {
   "cell_type": "markdown",
   "metadata": {},
   "source": [
    "I have written a library, Q_tools, to do the work with quaternions. There are two important classes:\n",
    "1. QH, for quaternions the normed divison algebra\n",
    "2. QHStates, for quaternion series, the semi-group with inverses\n",
    "\n",
    "In the work of this section, although the tools can take quaternion values, the third and fourth slots of the quaternions are always equal to zero making the quaternions formally identical to complex numbers. This should show that the libraries do as they promise.\n",
    "\n",
    "Load the needed resources."
   ]
  },
  {
   "cell_type": "code",
   "execution_count": null,
   "metadata": {},
   "outputs": [],
   "source": [
    "%%capture\n",
    "%matplotlib inline\n",
    "import numpy as np\n",
    "import sympy as sp\n",
    "import matplotlib.pyplot as plt\n",
    "import math\n",
    "\n",
    "# To get equations the look like, well, equations, use the following.\n",
    "from sympy.interactive import printing\n",
    "printing.init_printing(use_latex=True)\n",
    "from IPython.display import display\n",
    "\n",
    "# Tools for manipulating quaternions.\n",
    "import Q_tools as qt\n",
    "from IPython.core.display import display, HTML, Math, Latex\n",
    "display(HTML(\"<style>.container { width:100% !important; }</style>\"))"
   ]
  },
  {
   "cell_type": "markdown",
   "metadata": {},
   "source": [
    "The assignment does not dictate what basis should be used for the spin states |0> and |1>. Of course there is one exceptionally popular one:"
   ]
  },
  {
   "cell_type": "code",
   "execution_count": null,
   "metadata": {},
   "outputs": [],
   "source": [
    "q_0, q_1, q_i, q_j, q_k = qt.QH().q_0(), qt.QH().q_1(), qt.QH().q_i(), qt.QH().q_j(), qt.QH().q_k()\n",
    "\n",
    "u = qt.QHStates([q_1, q_0])\n",
    "d = qt.QHStates([q_0, q_1])\n",
    "\n",
    "u.print_state(\"|u>\")\n",
    "d.print_state(\"|d>\")"
   ]
  },
  {
   "cell_type": "markdown",
   "metadata": {},
   "source": [
    "To demonstrate these tools are robust, another basis will also be used that uses imaginary values."
   ]
  },
  {
   "cell_type": "code",
   "execution_count": null,
   "metadata": {},
   "outputs": [],
   "source": [
    "q_2 = qt.QHStates( [ qt.QH([sp.sqrt(1/2), 0, 0, 0]) ] )\n",
    "q_2i = qt.QHStates([qt.QH([0, sp.sqrt(1/2), 0, 0])])\n",
    "\n",
    "i = q_2.product(u).add(q_2i.product(d)).ket()\n",
    "o = q_2.product(u).dif(q_2i.product(d)).ket()\n",
    "\n",
    "i.print_state(\"|i>\")\n",
    "o.print_state(\"|o>\")"
   ]
  },
  {
   "cell_type": "markdown",
   "metadata": {},
   "source": [
    "A technical note about the Q_tools... Everything is a quaternion or a series of quaternions. That makes everything look, well, the same. To tell what has happened to create a particular quaternion, I created the idea of a \"qtype\" which is the string that follows that has a rough record of how a particular quaternion was created. It is a little bit fun and useless when the qtype gets particularly long. The printing of qtype can be suppressed."
   ]
  },
  {
   "cell_type": "markdown",
   "metadata": {},
   "source": [
    "Now define the four operators to be used as QHStates."
   ]
  },
  {
   "cell_type": "code",
   "execution_count": null,
   "metadata": {},
   "outputs": [],
   "source": [
    "# The numbers\n",
    "q_1r2 = qt.QH().q_1(sp.sqrt(1/2))\n",
    "q_1r2_n = qt.QH().q_1(- sp.sqrt(1/2))\n",
    "q_12 = qt.QH().q_1(1/2)\n",
    "q_12_n = qt.QH().q_1(-1/2)\n",
    "\n",
    "# The operators\n",
    "σ_x = qt.QHStates([q_0, q_1r2, q_1r2, q_0], qs_type=\"op\")\n",
    "σ_z = qt.QHStates([q_1r2, q_0, q_0, q_1r2_n], qs_type=\"op\")\n",
    "W = qt.QHStates([q_12, q_12, q_12, q_12_n], qs_type=\"op\")\n",
    "V = qt.QHStates([q_12, q_12_n, q_12_n, q_12_n], qs_type=\"op\")\n",
    "\n",
    "# Print out\n",
    "σ_x.print_state(\"σ_x\")\n",
    "σ_z.print_state(\"σ_z\")\n",
    "W.print_state(\"W\")\n",
    "V.print_state(\"V\")\n",
    "\n",
    "σ_x.norm_squared().print_state(\"norm of σ_x\")\n",
    "W.norm_squared().print_state(\"norm of W\")"
   ]
  },
  {
   "cell_type": "markdown",
   "metadata": {},
   "source": [
    "All the needed players are here: a way to represent the spin 2 states and the operators. The additional function one needs is called \"bracket\" which works like so:"
   ]
  },
  {
   "cell_type": "code",
   "execution_count": null,
   "metadata": {},
   "outputs": [],
   "source": [
    "qt.QHStates().bracket(u, qt.QHStates().identity(2, operator=True), u).print_state(\"<u|I|u>\")\n",
    "qt.QHStates().bracket(u, σ_x, u).print_state(\"<u|σ_x|u>\")"
   ]
  },
  {
   "cell_type": "markdown",
   "metadata": {},
   "source": [
    "Operators mix things around! \n",
    "\n",
    "Here is the first task:\n",
    "\n",
    "Given a wave function:\n",
    "\n",
    "$$\\lvert\\psi_s\\rangle =\n",
    "  \\frac{1}{\\sqrt{2}}(\\lvert0\\rangle_A\\otimes\\lvert1\\rangle_B - \\lvert1\\rangle_A\\otimes\\lvert0\\rangle_B) =\n",
    "  \\frac{1}{\\sqrt{2}}(\\lvert01\\rangle - \\lvert10\\rangle),$$\n",
    "  \n",
    "show:\n",
    "\n",
    "\\begin{eqnarray*}\n",
    "\\langle X \\otimes W \\rangle_{\\psi_s} &= -\\frac{1}{\\sqrt{2}}\n",
    "\\end{eqnarray*}"
   ]
  },
  {
   "cell_type": "markdown",
   "metadata": {},
   "source": [
    "There are eight brackets that have to be calculated:\n",
    "1. $<0 X 0><1 W 1>$\n",
    "1. $<1 X 1><0 W 0>$\n",
    "1. $-<0 X 1><1 W 0>$\n",
    "1. $-<1 X 0><0 W 1>$\n",
    "\n",
    "These will have to be repeated a bunch of times too. Time to write a function for the task."
   ]
  },
  {
   "cell_type": "code",
   "execution_count": null,
   "metadata": {},
   "outputs": [],
   "source": [
    "bracket = qt.QHStates().bracket\n",
    "\n",
    "def bracket_bracket(ket_0, ket_1, op_1, op_2, verbose=False):\n",
    "    \"\"\"Form the inner product for a superposition of states.\"\"\"\n",
    "    \n",
    "    b_010 = bracket(ket_0, op_1, ket_0)\n",
    "    b_111 = bracket(ket_1, op_1, ket_1)\n",
    "    b_011 = bracket(ket_0, op_1, ket_1)\n",
    "    b_110 = bracket(ket_1, op_1, ket_0)\n",
    "\n",
    "    b_121 = bracket(ket_1, op_2, ket_1)\n",
    "    b_020 = bracket(ket_0, op_2, ket_0)\n",
    "    b_120 = bracket(ket_1, op_2, ket_0)\n",
    "    b_021 = bracket(ket_0, op_2, ket_1)\n",
    "    \n",
    "    b_0011 = b_010.product(b_121)\n",
    "    b_1100 = b_111.product(b_020)\n",
    "    b_0110 = b_011.product(b_120)\n",
    "    b_1001 = b_110.product(b_021)\n",
    "    \n",
    "    bb = b_0011.add(b_1100).dif(b_0110).dif(b_1001)\n",
    "    \n",
    "    if verbose:\n",
    "        b_010.print_state(\"b_010\", quiet=True)\n",
    "        b_011.print_state(\"b_011\", quiet=True)\n",
    "        b_110.print_state(\"b_110\", quiet=True)\n",
    "        b_111.print_state(\"b_111\", quiet=True)\n",
    "        b_121.print_state(\"b_121\", quiet=True)\n",
    "        b_120.print_state(\"b_120\", quiet=True)\n",
    "        b_021.print_state(\"b_021\", quiet=True)\n",
    "        b_020.print_state(\"b_020\", quiet=True)\n",
    "        \n",
    "        b_0011.print_state(\"b_0011\", quiet=True)\n",
    "        b_1100.print_state(\"b_1100\", quiet=True)\n",
    "        b_0110.print_state(\"b_0110\", quiet=True)\n",
    "        b_1001.print_state(\"b_1001\", quiet=True)\n",
    "    \n",
    "    return bb"
   ]
  },
  {
   "cell_type": "code",
   "execution_count": null,
   "metadata": {},
   "outputs": [],
   "source": [
    "XxW = bracket_bracket(d, u, σ_x, W)\n",
    "XxW.print_state(\"XxW\")"
   ]
  },
  {
   "cell_type": "markdown",
   "metadata": {},
   "source": [
    "Bingo, bingo. This was not a trivial calculation given the long qtype.\n",
    "\n",
    "Demonstrate the expression is true even if the basis is switched to |i> and |o> which use imaginary values."
   ]
  },
  {
   "cell_type": "code",
   "execution_count": null,
   "metadata": {},
   "outputs": [],
   "source": [
    "bracket_bracket(i, o, σ_x, W).print_state(\"XxW\", quiet=True)"
   ]
  },
  {
   "cell_type": "markdown",
   "metadata": {},
   "source": [
    "Now calculate the other 3: XxV, ZxW, and ZxV."
   ]
  },
  {
   "cell_type": "code",
   "execution_count": null,
   "metadata": {},
   "outputs": [],
   "source": [
    "XxV = bracket_bracket(i, o, σ_x, V)\n",
    "XxV.print_state(\"XxV\", quiet=True)\n",
    "\n",
    "ZxW = bracket_bracket(i, o, σ_z, W)\n",
    "ZxW.print_state(\"ZxV\", quiet=True)\n",
    "\n",
    "ZxV = bracket_bracket(i, o, σ_z, V)\n",
    "ZxV.print_state(\"ZxV\", quiet=True)"
   ]
  },
  {
   "cell_type": "markdown",
   "metadata": {},
   "source": [
    "Add 'em all up but XxV which gets subtracted."
   ]
  },
  {
   "cell_type": "code",
   "execution_count": null,
   "metadata": {},
   "outputs": [],
   "source": [
    "CHSH = XxW.add(ZxW).add(ZxV).dif(XxV)\n",
    "CHSH.print_state(\"CHSH\", quiet=True)\n",
    "-2 * sp.sqrt(2.0)"
   ]
  },
  {
   "cell_type": "markdown",
   "metadata": {},
   "source": [
    "This is the correct answer, a good thing."
   ]
  },
  {
   "cell_type": "markdown",
   "metadata": {},
   "source": [
    "## Redo with quaternion-valued states"
   ]
  },
  {
   "cell_type": "markdown",
   "metadata": {},
   "source": [
    "Take the state vectors |i> and |o> and add in a non-zero $j$ and $k$. The normalization has to be tweeked so that the states remain ortho-normal."
   ]
  },
  {
   "cell_type": "code",
   "execution_count": null,
   "metadata": {},
   "outputs": [],
   "source": [
    "n = sp.sqrt(6)\n",
    "i3 = qt.QHStates( [ qt.QH([sp.sqrt(1/2), 0, 0, 0]), qt.QH([0, 1/n, 1/n, 1/n])])\n",
    "o3 = qt.QHStates( [ qt.QH([sp.sqrt(1/2), 0, 0, 0]), qt.QH([0, -1/n, -1/n, -1/n])])\n",
    "\n",
    "i3.norm_squared().print_state(\"i3 norm\")\n",
    "o3.norm_squared().print_state(\"o3 norm\")\n",
    "o3.bra().Euclidean_product(i3).print_state(\"<o3|i3>\")"
   ]
  },
  {
   "cell_type": "markdown",
   "metadata": {},
   "source": [
    "There is a bit of rounding error, but I will count this as a quaternion-valued ortho-normal spin 2 states. Calculate the XxV as before."
   ]
  },
  {
   "cell_type": "code",
   "execution_count": null,
   "metadata": {},
   "outputs": [],
   "source": [
    "XxV = bracket_bracket(i3, o3, σ_x, W)\n",
    "XxV.print_state(\"XxV\", quiet=True)"
   ]
  },
  {
   "cell_type": "markdown",
   "metadata": {},
   "source": [
    "There better not be anything special about the direction 1, 1, 1. Show a different direction also works."
   ]
  },
  {
   "cell_type": "code",
   "execution_count": null,
   "metadata": {},
   "outputs": [],
   "source": [
    "n = sp.sqrt(28)\n",
    "i123 = qt.QHStates( [ qt.QH([sp.sqrt(1/2), 0, 0, 0]), qt.QH([0, 1/n, 2/n, 3/n])])\n",
    "o123 = qt.QHStates( [ qt.QH([sp.sqrt(1/2), 0, 0, 0]), qt.QH([0, -1/n, -2/n, -3/n])])\n",
    "\n",
    "i123.norm_squared().print_state(\"i123 norm\")\n",
    "o123.norm_squared().print_state(\"o123 norm\")\n",
    "o123.bra().Euclidean_product(i123).print_state(\"<o123|i123>\")\n",
    "\n",
    "XxV = bracket_bracket(i123, o123, σ_x, W)\n",
    "XxV.print_state(\"XxV\", quiet=True)"
   ]
  },
  {
   "cell_type": "markdown",
   "metadata": {},
   "source": [
    "The rounding error is worse, but that is trivial. "
   ]
  },
  {
   "cell_type": "markdown",
   "metadata": {},
   "source": [
    "## Why this *had* to work"
   ]
  },
  {
   "cell_type": "markdown",
   "metadata": {},
   "source": [
    "Complex numbers are a subgroup of quaternions. Nature and mathematics are logically consistent, so it follows that any expression written using complex numbers can be rewritten using quaternions that have a pair of zeros. The majority of this notebook showed the trivial double-zero quaternion process worked.\n",
    "\n",
    "If one interprets the imaginary numbers of quaternions as a spatial thing, then one can argue on physical grounds that space is homogeneous, so it should not matter what direction one points in: $i$, $j$, $k$, or any combination of those. There are details that have to be done right, and it is easy to mess up those details. "
   ]
  },
  {
   "cell_type": "code",
   "execution_count": null,
   "metadata": {},
   "outputs": [],
   "source": []
  },
  {
   "cell_type": "code",
   "execution_count": null,
   "metadata": {},
   "outputs": [],
   "source": []
  },
  {
   "cell_type": "code",
   "execution_count": null,
   "metadata": {},
   "outputs": [],
   "source": []
  }
 ],
 "metadata": {
  "language_info": {
   "name": "python",
   "pygments_lexer": "ipython3"
  }
 },
 "nbformat": 4,
 "nbformat_minor": 4
}
