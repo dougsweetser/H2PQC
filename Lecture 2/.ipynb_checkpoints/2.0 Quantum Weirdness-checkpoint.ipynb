{
 "cells": [
  {
   "cell_type": "markdown",
   "metadata": {},
   "source": [
    "# 2.0 Quantum Weirdness\n",
    "$\\newcommand{\\ket}[1]{\\left|{#1}\\right\\rangle}$\n",
    "$\\newcommand{\\bra}[1]{\\left\\langle{#1}\\right|}$"
   ]
  },
  {
   "cell_type": "code",
   "execution_count": null,
   "metadata": {},
   "outputs": [],
   "source": [
    "from qiskit import QuantumRegister, ClassicalRegister\n",
    "from qiskit import QuantumCircuit, BasicAer, execute\n",
    "from qiskit.tools.visualization import plot_histogram\n",
    "\n",
    "import matplotlib.pyplot as plt\n",
    "import numpy as np"
   ]
  },
  {
   "cell_type": "code",
   "execution_count": null,
   "metadata": {},
   "outputs": [],
   "source": [
    "# Build Circuit\n",
    "q = QuantumRegister(3)\n",
    "c = ClassicalRegister(3)\n",
    "qc = QuantumCircuit(q, c)\n",
    "qc.h(q[0])\n",
    "qc.cx(q[0], q[1])\n",
    "qc.cx(q[0], q[2])\n",
    "\n",
    "# #local operations\n",
    "qc.h(q[0])\n",
    "qc.h(q[1])\n",
    "qc.h(q[2])\n",
    "qc.s(q[0])\n",
    "qc.s(q[1])\n",
    "qc.s(q[2])\n",
    "\n",
    "# # Measurement 1\n",
    "qc.barrier()\n",
    "qc.z(q[0])\n",
    "qc.z(q[1])\n",
    "qc.z(q[2])\n",
    "\n",
    "# # Measurement 2\n",
    "# qc.barrier()\n",
    "# qc.z(q[0])\n",
    "# qc.h(q[1])\n",
    "# qc.h(q[2])\n",
    "\n",
    "# # Measurement 3\n",
    "# qc.barrier()\n",
    "# qc.h(q[0])\n",
    "# qc.z(q[1])\n",
    "# qc.h(q[2])\n",
    "\n",
    "# Measurement 4\n",
    "# qc.barrier()\n",
    "# qc.h(q[0])\n",
    "# qc.h(q[1])\n",
    "# qc.z(q[2])\n",
    "\n",
    "qc.measure(q, c)\n",
    "\n",
    "# Load backend QasmSimulator and run the job\n",
    "backend = BasicAer.get_backend('qasm_simulator')\n",
    "job = execute(qc, backend, shots=1024)\n",
    "result = job.result()\n",
    "\n",
    "# get the counts (how many events in each bin)\n",
    "counts = result.get_counts(qc)\n",
    "print(counts)\n",
    "\n",
    "# plot\n",
    "plot_histogram(counts)"
   ]
  },
  {
   "cell_type": "code",
   "execution_count": null,
   "metadata": {},
   "outputs": [],
   "source": [
    "qc.draw()"
   ]
  },
  {
   "cell_type": "code",
   "execution_count": null,
   "metadata": {},
   "outputs": [],
   "source": []
  }
 ],
 "metadata": {
  "language_info": {
   "name": "python",
   "pygments_lexer": "ipython3"
  }
 },
 "nbformat": 4,
 "nbformat_minor": 2
}
