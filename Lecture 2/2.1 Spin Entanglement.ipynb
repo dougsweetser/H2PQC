{
 "cells": [
  {
   "cell_type": "markdown",
   "metadata": {},
   "source": [
    "# 2.1 Entangling Two Remote Spins\n",
    "\n",
    "In this notebook we look at a protocol to entangle two remote spins."
   ]
  },
  {
   "cell_type": "code",
   "execution_count": null,
   "metadata": {},
   "outputs": [],
   "source": [
    "from qiskit import QuantumRegister, ClassicalRegister\n",
    "from qiskit import QuantumCircuit, Aer, execute, BasicAer\n",
    "from qiskit.tools.visualization import plot_histogram\n",
    "\n",
    "import matplotlib.pyplot as plt\n",
    "import numpy as np\n",
    "from numpy import pi"
   ]
  },
  {
   "cell_type": "markdown",
   "metadata": {},
   "source": [
    "Initialize the register (I'm going to give you this because the indexing can be a bit annoying)"
   ]
  },
  {
   "cell_type": "code",
   "execution_count": null,
   "metadata": {},
   "outputs": [],
   "source": [
    "# Initialize Alice registers\n",
    "q_alice_spin = QuantumRegister(1, 'q_alice_spin')\n",
    "q_alice_photon = QuantumRegister(1, 'q_alice_photon')\n",
    "c_alice_spin = ClassicalRegister(1, 'c_alice_spin')\n",
    "c_alice_photon = ClassicalRegister(1, 'c_alice_photon')\n",
    "\n",
    "# Build Alices Quantum Circuit\n",
    "qc_alice = QuantumCircuit(q_alice_spin, q_alice_photon, c_alice_spin, c_alice_photon)\n",
    "\n",
    "# Initialize Bob registers\n",
    "q_bob_spin = QuantumRegister(1, 'q_bob_spin')\n",
    "q_bob_photon = QuantumRegister(1, 'q_bob_photon')\n",
    "c_bob_spin = ClassicalRegister(1, 'c_bob_spin')\n",
    "c_bob_photon = ClassicalRegister(1, 'c_bob_photon')\n",
    "\n",
    "# Build Bobs Quantum Circuit\n",
    "qc_bob = QuantumCircuit(q_bob_spin, q_bob_photon, c_bob_spin, c_bob_photon)"
   ]
  },
  {
   "cell_type": "markdown",
   "metadata": {},
   "source": [
    "Perform the operations:"
   ]
  },
  {
   "cell_type": "code",
   "execution_count": null,
   "metadata": {},
   "outputs": [],
   "source": [
    "# Alices Opertaions, HINT: you can call each qubit via e.g. q_alice_spin[0] in Alices and Bobs seperate quantum circuits\n",
    "qc_alice.h(q_alice_spin[0])\n",
    "qc_alice.cx(q_alice_spin[0], q_alice_photon[0])\n",
    "qc_alice.draw()\n",
    "# Bobs Operations\n",
    "\n",
    "\n",
    "\n",
    "# join alice and bobs circuits together (HINT: you can use plain old '+' for this)  \n",
    "\n",
    "# CX between photons\n",
    "\n",
    "# Hadmard Alices photon\n",
    "\n",
    "\n",
    "# add barrier and Draw just to check\n"
   ]
  },
  {
   "cell_type": "code",
   "execution_count": null,
   "metadata": {},
   "outputs": [],
   "source": [
    "qc_bob.h(q_bob_spin[0])\n",
    "qc_bob.cx(q_bob_spin[0], q_bob_photon[0])\n",
    "qc_bob.draw()"
   ]
  },
  {
   "cell_type": "code",
   "execution_count": null,
   "metadata": {},
   "outputs": [],
   "source": [
    "qc_alice_bob = qc_alice + qc_bob"
   ]
  },
  {
   "cell_type": "code",
   "execution_count": null,
   "metadata": {},
   "outputs": [],
   "source": [
    "qc_alice_bob.cx(q_alice_photon[0], q_bob_photon[0])\n",
    "qc_alice_bob.draw()"
   ]
  },
  {
   "cell_type": "markdown",
   "metadata": {},
   "source": [
    "Make measurements:"
   ]
  },
  {
   "cell_type": "code",
   "execution_count": null,
   "metadata": {},
   "outputs": [],
   "source": [
    "# make sure the quantum registers match up with the correct classical registers\n",
    "\n",
    "#draw just to check\n"
   ]
  },
  {
   "cell_type": "markdown",
   "metadata": {},
   "source": [
    "Lets look at the counts:"
   ]
  },
  {
   "cell_type": "code",
   "execution_count": null,
   "metadata": {},
   "outputs": [],
   "source": [
    "# Load backend QasmSimulator and run the job\n",
    "\n",
    "# select the number of shots (repeats) of the experiment, and run the job\n",
    "\n",
    "# get the counts (how many events in each bin) + print\n",
    "\n",
    "# plot\n",
    "qc_alice_bob.measure(q, c)\n",
    "\n",
    "# Load backend QasmSimulator and run the job\n",
    "backend = BasicAer.get_backend('qasm_simulator')\n",
    "job = execute(qc_alice_bob, backend, shots=1024)\n",
    "result = job.result()\n",
    "\n",
    "# get the counts (how many events in each bin)\n",
    "counts = result.get_counts(qc_alice_bob)\n",
    "print(counts)\n",
    "\n",
    "# plot\n",
    "plot_histogram(counts)"
   ]
  },
  {
   "cell_type": "markdown",
   "metadata": {},
   "source": [
    "Note. Basis goes {Bobs Photon, Bobs Spin, Alices Photon, Alices Spin}\n",
    "\n",
    "**Questions:**\n",
    "- What is the state of the spins when Alice measures 0, and Bob measures 0?\n",
    "- What about 01, 10, 11 ?"
   ]
  },
  {
   "cell_type": "code",
   "execution_count": null,
   "metadata": {},
   "outputs": [],
   "source": []
  }
 ],
 "metadata": {
  "language_info": {
   "name": "python",
   "pygments_lexer": "ipython3"
  }
 },
 "nbformat": 4,
 "nbformat_minor": 2
}
